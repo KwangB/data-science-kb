{
 "cells": [
  {
   "cell_type": "code",
   "execution_count": 2,
   "metadata": {},
   "outputs": [
    {
     "name": "stdout",
     "output_type": "stream",
     "text": [
      "1\n",
      "2\n",
      "3\n",
      "4\n",
      "5\n",
      "6\n",
      "7\n",
      "9\n",
      "10\n",
      "11\n",
      "12\n",
      "14\n",
      "16\n",
      "17\n",
      "18\n",
      "19\n",
      "21\n",
      "[[71073     9]\n",
      " [   45    75]]\n",
      "accuracy :99.92415943372377%\n",
      "             precision    recall  f1-score   support\n",
      "\n",
      "          0       1.00      1.00      1.00     71082\n",
      "          1       0.89      0.62      0.74       120\n",
      "\n",
      "avg / total       1.00      1.00      1.00     71202\n",
      "\n",
      "['V1', 'V2', 'V3', 'V4', 'V5', 'V6', 'V7', 'V9', 'V10', 'V11', 'V12', 'V14', 'V16', 'V17', 'V18', 'V19', 'V21']\n"
     ]
    }
   ],
   "source": [
    "import pandas as pd\n",
    "import numpy as np\n",
    "import seaborn as sns\n",
    "from scipy import stats\n",
    "from sklearn.linear_model import LogisticRegression\n",
    "from sklearn.cross_validation import train_test_split\n",
    "from sklearn.metrics import confusion_matrix\n",
    "from sklearn.metrics import classification_report\n",
    "import seaborn as sns\n",
    "%matplotlib inline\n",
    "\n",
    "#data download : https://www.kaggle.com/mlg-ulb/creditcardfraud\n",
    "#data import\n",
    "df = pd.read_csv('creditcard.csv')\n",
    "\n",
    "#data split\n",
    "normal = df[df['Class']==0] \n",
    "fraud = df[df['Class']==1]\n",
    "itemlist = []\n",
    "\n",
    "#variable selection\n",
    "for i in range(1,29):\n",
    "    s,p = stats.ttest_ind(normal['V'+str(i)], fraud['V'+str(i)])\n",
    "    if p < 0.00000000000000000000000000000000000000001:\n",
    "        print(i)\n",
    "        itemlist.append('V'+str(i))\n",
    "x = df[itemlist]\n",
    "y = df['Class']\n",
    "X_train, X_test, y_train, y_test = train_test_split(x, y, random_state=0)\n",
    "\n",
    "#modelfit\n",
    "classifier = LogisticRegression(random_state=0)\n",
    "classifier.fit(X_train, y_train)\n",
    "\n",
    "#cross validation\n",
    "y_pred = classifier.predict(X_test)\n",
    "confusion_matrix = confusion_matrix(y_test, y_pred)\n",
    "accurarcy = (confusion_matrix[0,0]+confusion_matrix[1,1])/(confusion_matrix[0,0]+confusion_matrix[1,1]+confusion_matrix[1,0]+confusion_matrix[0,1])\n",
    "print(confusion_matrix)\n",
    "print('accuracy :{0}%'.format(accurarcy*100))\n",
    "print(classification_report(y_test, y_pred))\n",
    "print(itemlist)"
   ]
  }
 ],
 "metadata": {
  "kernelspec": {
   "display_name": "Python 3",
   "language": "python",
   "name": "python3"
  },
  "language_info": {
   "codemirror_mode": {
    "name": "ipython",
    "version": 3
   },
   "file_extension": ".py",
   "mimetype": "text/x-python",
   "name": "python",
   "nbconvert_exporter": "python",
   "pygments_lexer": "ipython3",
   "version": "3.5.3"
  }
 },
 "nbformat": 4,
 "nbformat_minor": 2
}
